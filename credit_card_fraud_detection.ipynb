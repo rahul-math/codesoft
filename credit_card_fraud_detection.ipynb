{
 "cells": [
  {
   "cell_type": "code",
   "execution_count": 1,
   "id": "f1b3ca0d-0e42-4e11-92d2-ae9313511e17",
   "metadata": {},
   "outputs": [],
   "source": [
    "import pandas as pd\n",
    "from sklearn.model_selection import train_test_split\n",
    "from sklearn.preprocessing import LabelEncoder, StandardScaler\n",
    "from sklearn.linear_model import LogisticRegression\n",
    "from sklearn.tree import DecisionTreeClassifier\n",
    "from sklearn.ensemble import RandomForestClassifier\n",
    "from sklearn.metrics import classification_report, confusion_matrix, roc_auc_score"
   ]
  },
  {
   "cell_type": "code",
   "execution_count": 2,
   "id": "fcd8786e-71c9-4a32-882b-c94b24401010",
   "metadata": {},
   "outputs": [],
   "source": [
    "train_df = pd.read_csv('fraudTrain.csv')\n",
    "test_df = pd.read_csv('fraudTest.csv')"
   ]
  },
  {
   "cell_type": "code",
   "execution_count": 3,
   "id": "68fdbe8f-10a0-4b63-8aaa-e6611db5cef8",
   "metadata": {},
   "outputs": [],
   "source": [
    "full_df = pd.concat([train_df, test_df], axis=0)"
   ]
  },
  {
   "cell_type": "code",
   "execution_count": 4,
   "id": "cf1a683a-e9ed-4ba3-b634-866dd44efaa2",
   "metadata": {},
   "outputs": [],
   "source": [
    "full_df = full_df.drop(columns=['Unnamed: 0', 'trans_date_trans_time', 'cc_num'])"
   ]
  },
  {
   "cell_type": "code",
   "execution_count": 5,
   "id": "75ea35ab-4448-41bd-9b10-b075447d4ca0",
   "metadata": {},
   "outputs": [],
   "source": [
    "for col in full_df.select_dtypes(include=['object']).columns:\n",
    "    full_df[col] = LabelEncoder().fit_transform(full_df[col])"
   ]
  },
  {
   "cell_type": "code",
   "execution_count": 6,
   "id": "ab7ef558-540f-4dc8-9b13-7ac894d44ad4",
   "metadata": {},
   "outputs": [],
   "source": [
    "train_processed = full_df.iloc[:len(train_df)]\n",
    "test_processed = full_df.iloc[len(train_df):]"
   ]
  },
  {
   "cell_type": "code",
   "execution_count": 7,
   "id": "e2fa5b17-70fe-48ca-9967-b588226235cd",
   "metadata": {},
   "outputs": [],
   "source": [
    "X_train = train_processed.drop('is_fraud', axis=1)\n",
    "y_train = train_processed['is_fraud']\n",
    "X_test = test_processed.drop('is_fraud', axis=1)\n",
    "y_test = test_processed['is_fraud']"
   ]
  },
  {
   "cell_type": "code",
   "execution_count": 8,
   "id": "213acc60-e90d-4dee-85d7-e9dc734a6b56",
   "metadata": {},
   "outputs": [],
   "source": [
    "scaler = StandardScaler()\n",
    "X_train = scaler.fit_transform(X_train)\n",
    "X_test = scaler.transform(X_test)"
   ]
  },
  {
   "cell_type": "code",
   "execution_count": 9,
   "id": "b3ddc745-8140-4545-8671-f4c5ed4c301b",
   "metadata": {},
   "outputs": [],
   "source": [
    "models = {\n",
    "    \"Logistic Regression\": LogisticRegression(max_iter=1000),\n",
    "    \"Decision Tree\": DecisionTreeClassifier()\n",
    "}"
   ]
  },
  {
   "cell_type": "code",
   "execution_count": 10,
   "id": "6819b626-cd65-485b-88d7-ca7539c4bc8a",
   "metadata": {},
   "outputs": [
    {
     "name": "stdout",
     "output_type": "stream",
     "text": [
      "\n",
      "Logistic Regression\n",
      "[[553227    347]\n",
      " [  2145      0]]\n",
      "              precision    recall  f1-score   support\n",
      "\n",
      "           0       1.00      1.00      1.00    553574\n",
      "           1       0.00      0.00      0.00      2145\n",
      "\n",
      "    accuracy                           1.00    555719\n",
      "   macro avg       0.50      0.50      0.50    555719\n",
      "weighted avg       0.99      1.00      0.99    555719\n",
      "\n",
      "ROC AUC Score: 0.831879859011191\n",
      "\n",
      "Decision Tree\n",
      "[[550816   2758]\n",
      " [   884   1261]]\n",
      "              precision    recall  f1-score   support\n",
      "\n",
      "           0       1.00      1.00      1.00    553574\n",
      "           1       0.31      0.59      0.41      2145\n",
      "\n",
      "    accuracy                           0.99    555719\n",
      "   macro avg       0.66      0.79      0.70    555719\n",
      "weighted avg       1.00      0.99      0.99    555719\n",
      "\n",
      "ROC AUC Score: 0.791448308736693\n"
     ]
    }
   ],
   "source": [
    "for name, model in models.items():\n",
    "    model.fit(X_train, y_train)\n",
    "    preds = model.predict(X_test)\n",
    "    print(f\"\\n{name}\")\n",
    "    print(confusion_matrix(y_test, preds))\n",
    "    print(classification_report(y_test, preds))\n",
    "    print(\"ROC AUC Score:\", roc_auc_score(y_test, model.predict_proba(X_test)[:, 1]))"
   ]
  },
  {
   "cell_type": "code",
   "execution_count": null,
   "id": "ec550c4e-8ed6-41a2-9057-a43b040e679b",
   "metadata": {},
   "outputs": [],
   "source": []
  }
 ],
 "metadata": {
  "kernelspec": {
   "display_name": "Python 3 (ipykernel)",
   "language": "python",
   "name": "python3"
  },
  "language_info": {
   "codemirror_mode": {
    "name": "ipython",
    "version": 3
   },
   "file_extension": ".py",
   "mimetype": "text/x-python",
   "name": "python",
   "nbconvert_exporter": "python",
   "pygments_lexer": "ipython3",
   "version": "3.12.0"
  }
 },
 "nbformat": 4,
 "nbformat_minor": 5
}
